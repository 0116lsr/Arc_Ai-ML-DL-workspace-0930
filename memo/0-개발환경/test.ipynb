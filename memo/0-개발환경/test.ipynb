{
 "cells": [
  {
   "cell_type": "code",
   "id": "initial_id",
   "metadata": {
    "collapsed": true,
    "ExecuteTime": {
     "end_time": "2025-09-30T02:10:06.164263Z",
     "start_time": "2025-09-30T02:10:03.038450Z"
    }
   },
   "source": [
    "import torch\n",
    "print(torch.__version__)  # 설치된 PyTorch 버전 출력\n",
    "print(torch.cuda.is_available())  # CUDA 사용 가능 여부 확인\n",
    "\n",
    "if torch.cuda.is_available():\n",
    "    print(f\"GPU 사용 가능: {torch.cuda.get_device_name(0)}\")\n",
    "else:\n",
    "    print(\"GPU를 사용할 수 없습니다. CPU를 사용합니다.\")\n",
    "\n",
    "x = torch.rand(3, 3)\n",
    "y = torch.rand(3, 3)\n",
    "z = x + y\n",
    "print(\"x:\", x)\n",
    "print(\"y:\", y)\n",
    "print(\"z:\", z)"
   ],
   "outputs": [
    {
     "name": "stdout",
     "output_type": "stream",
     "text": [
      "2.8.0+cpu\n",
      "False\n",
      "GPU를 사용할 수 없습니다. CPU를 사용합니다.\n",
      "x: tensor([[0.4195, 0.1144, 0.3347],\n",
      "        [0.6223, 0.1585, 0.5821],\n",
      "        [0.6864, 0.6823, 0.9306]])\n",
      "y: tensor([[0.0414, 0.8769, 0.5768],\n",
      "        [0.1249, 0.3538, 0.2261],\n",
      "        [0.7561, 0.7945, 0.4646]])\n",
      "z: tensor([[0.4609, 0.9913, 0.9115],\n",
      "        [0.7472, 0.5123, 0.8082],\n",
      "        [1.4425, 1.4768, 1.3952]])\n"
     ]
    }
   ],
   "execution_count": 2
  },
  {
   "metadata": {
    "ExecuteTime": {
     "end_time": "2025-09-30T05:32:42.513209Z",
     "start_time": "2025-09-30T05:32:42.506927Z"
    }
   },
   "cell_type": "code",
   "source": [
    "x = torch.ones(3, 3)  # 기존 텐서\n",
    "print(x)\n",
    "rand_tensor = torch.randint_like(x, 0, 10)  # 기존 크기 유지, 0~9 정수 샘플링\n",
    "\n",
    "print(rand_tensor)"
   ],
   "id": "4b32e8e5926831b0",
   "outputs": [
    {
     "name": "stdout",
     "output_type": "stream",
     "text": [
      "tensor([[1., 1., 1.],\n",
      "        [1., 1., 1.],\n",
      "        [1., 1., 1.]])\n",
      "tensor([[1., 2., 0.],\n",
      "        [3., 7., 0.],\n",
      "        [5., 1., 4.]])\n"
     ]
    }
   ],
   "execution_count": 12
  },
  {
   "metadata": {
    "ExecuteTime": {
     "end_time": "2025-09-30T05:35:13.077494Z",
     "start_time": "2025-09-30T05:35:13.063730Z"
    }
   },
   "cell_type": "code",
   "source": [
    "tensor = torch.randperm(10)  # 0~9 정수를 무작위 섞기\n",
    "print(tensor)"
   ],
   "id": "af142065e0fee424",
   "outputs": [
    {
     "name": "stdout",
     "output_type": "stream",
     "text": [
      "tensor([0, 2, 3, 9, 7, 1, 6, 4, 5, 8])\n"
     ]
    }
   ],
   "execution_count": 18
  },
  {
   "metadata": {
    "ExecuteTime": {
     "end_time": "2025-09-30T05:37:31.286941Z",
     "start_time": "2025-09-30T05:37:31.280232Z"
    }
   },
   "cell_type": "code",
   "source": [
    "probs = torch.tensor([0.2, 0.8, 0.5, 0.9])  # 0~1 사이 확률값\n",
    "\n",
    "tensor = torch.bernoulli(probs)  # 각 확률에 따라 0 또는 1 생성\n",
    "\n",
    "print(tensor)"
   ],
   "id": "98406017e2b8145",
   "outputs": [
    {
     "name": "stdout",
     "output_type": "stream",
     "text": [
      "tensor([0., 1., 0., 1.])\n"
     ]
    }
   ],
   "execution_count": 31
  },
  {
   "metadata": {},
   "cell_type": "code",
   "outputs": [],
   "execution_count": null,
   "source": "",
   "id": "356467065e4a76a7"
  },
  {
   "metadata": {
    "ExecuteTime": {
     "end_time": "2025-09-30T05:38:54.973373Z",
     "start_time": "2025-09-30T05:38:54.964887Z"
    }
   },
   "cell_type": "code",
   "source": [
    "probs = torch.tensor([0.1, 0.2, 0.3, 0.4])  # 각 요소의 선택 확률\n",
    "tensor = torch.multinomial(probs, 2, replacement=True)  # 2개 선택 (복원 추출)\n",
    "print(tensor)"
   ],
   "id": "d25803f93bc603e9",
   "outputs": [
    {
     "name": "stdout",
     "output_type": "stream",
     "text": [
      "tensor([3, 3])\n"
     ]
    }
   ],
   "execution_count": 41
  }
 ],
 "metadata": {
  "kernelspec": {
   "display_name": "Python 3",
   "language": "python",
   "name": "python3"
  },
  "language_info": {
   "codemirror_mode": {
    "name": "ipython",
    "version": 2
   },
   "file_extension": ".py",
   "mimetype": "text/x-python",
   "name": "python",
   "nbconvert_exporter": "python",
   "pygments_lexer": "ipython2",
   "version": "2.7.6"
  }
 },
 "nbformat": 4,
 "nbformat_minor": 5
}
